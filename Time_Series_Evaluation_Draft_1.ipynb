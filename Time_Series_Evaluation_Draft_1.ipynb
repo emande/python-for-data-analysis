{
  "nbformat": 4,
  "nbformat_minor": 0,
  "metadata": {
    "colab": {
      "name": "Time Series Evaluation Draft 1",
      "provenance": [],
      "include_colab_link": true
    },
    "kernelspec": {
      "name": "python3",
      "display_name": "Python 3"
    }
  },
  "cells": [
    {
      "cell_type": "markdown",
      "metadata": {
        "id": "view-in-github",
        "colab_type": "text"
      },
      "source": [
        "<a href=\"https://colab.research.google.com/github/emande/python-for-data-analysis/blob/master/Time_Series_Evaluation_Draft_1.ipynb\" target=\"_parent\"><img src=\"https://colab.research.google.com/assets/colab-badge.svg\" alt=\"Open In Colab\"/></a>"
      ]
    },
    {
      "cell_type": "markdown",
      "metadata": {
        "id": "nTm5f1KwWoOF",
        "colab_type": "text"
      },
      "source": [
        "\n",
        "# Time Series\n",
        "\n",
        "An aproach to predict stock data.\n",
        "\n",
        "by: Atwine Mugume.\n",
        "\n",
        "### Things to learn:-\n",
        "\n",
        "- How to set up your own project.\n",
        "\n",
        "- Working with time based data.\n",
        "\n",
        "\n",
        "\n",
        "---\n",
        "\n",
        "\n",
        "\n",
        "1. [Article](https://medium.com/open-machine-learning-course/open-machine-learning-course-topic-9-time-series-analysis-in-python-a270cb05e0b3)\n",
        "\n",
        "\n",
        "2. [Article 2](https://medium.com/open-machine-learning-course/open-machine-learning-course-topic-9-part-3-predicting-the-future-with-facebook-prophet-3f3af145cdc)\n",
        "\n",
        "\n",
        "3. [Python Quants](https://gist.github.com/yhilpisch/dfd1e9c87864d5e3d6b54f1943a9c1ec)\n",
        "\n",
        "4. [You Tube Video Class](https://github.com/mGalarnyk/Python_Tutorials/tree/master/Time_Series)\n",
        "\n",
        "\n",
        "5. [You Tube](https://www.youtube.com/watch?v=x4nO5yoarM0)"
      ]
    },
    {
      "cell_type": "code",
      "metadata": {
        "id": "1yz8JxYfZSwk",
        "colab_type": "code",
        "outputId": "1a0858bf-3054-4ca5-a0f3-f130ee760d18",
        "colab": {
          "base_uri": "https://localhost:8080/",
          "height": 71
        }
      },
      "source": [
        "#import necessary libraries\n",
        "import pandas as pd\n",
        "import numpy as np \n",
        "import matplotlib.pyplot as plt\n",
        "import seaborn as sns\n",
        "\n",
        "#remove warnings\n",
        "import warnings\n",
        "warnings.filterwarnings(\"ignore\")"
      ],
      "execution_count": 0,
      "outputs": [
        {
          "output_type": "stream",
          "text": [
            "/usr/local/lib/python3.6/dist-packages/statsmodels/tools/_testing.py:19: FutureWarning: pandas.util.testing is deprecated. Use the functions in the public API at pandas.testing instead.\n",
            "  import pandas.util.testing as tm\n"
          ],
          "name": "stderr"
        }
      ]
    },
    {
      "cell_type": "code",
      "metadata": {
        "id": "CD6645lPZve1",
        "colab_type": "code",
        "colab": {}
      },
      "source": [
        "#read in the data downloaded\n",
        "#use the variable parse_dates to make the dates easy to work with in your data\n",
        "data = pd.read_csv('dt.csv', parse_dates=['Date'])"
      ],
      "execution_count": 0,
      "outputs": []
    },
    {
      "cell_type": "code",
      "metadata": {
        "id": "odSf_RO9m9FT",
        "colab_type": "code",
        "outputId": "17bab595-0ee0-4350-c066-c5622799405f",
        "colab": {
          "base_uri": "https://localhost:8080/",
          "height": 34
        }
      },
      "source": [
        "#how much data points do I have?\n",
        "data.shape"
      ],
      "execution_count": 0,
      "outputs": [
        {
          "output_type": "execute_result",
          "data": {
            "text/plain": [
              "(12413, 7)"
            ]
          },
          "metadata": {
            "tags": []
          },
          "execution_count": 3
        }
      ]
    },
    {
      "cell_type": "markdown",
      "metadata": {
        "id": "NaY5XSUsKYJr",
        "colab_type": "text"
      },
      "source": [
        "# Creating a test dataframe:\n",
        "\n",
        "At this point I need to split the data in such a way that I keep some aside which the computer will not see at all in the process of training. \n",
        "\n",
        "I am going to take out 10 Years of data and see if our model can accurately predict the information that we already know."
      ]
    },
    {
      "cell_type": "code",
      "metadata": {
        "id": "FGsXgUL9KqIn",
        "colab_type": "code",
        "colab": {}
      },
      "source": [
        ""
      ],
      "execution_count": 0,
      "outputs": []
    },
    {
      "cell_type": "code",
      "metadata": {
        "id": "W574G8hkfle-",
        "colab_type": "code",
        "colab": {}
      },
      "source": [
        "#let me create a column called Year, Quarter,\n",
        "\n",
        "data['Year'] = data['Date'].apply(lambda x: x.year)\n",
        "data[\"Quarter\"] = data['Date'].apply(lambda x: x.quarter)"
      ],
      "execution_count": 0,
      "outputs": []
    },
    {
      "cell_type": "code",
      "metadata": {
        "id": "0o2042KgoJjw",
        "colab_type": "code",
        "outputId": "07dc0a12-4979-42ce-8202-fea7e1b6ecc2",
        "colab": {
          "base_uri": "https://localhost:8080/",
          "height": 173
        }
      },
      "source": [
        "data.head(4)"
      ],
      "execution_count": 0,
      "outputs": [
        {
          "output_type": "execute_result",
          "data": {
            "text/html": [
              "<div>\n",
              "<style scoped>\n",
              "    .dataframe tbody tr th:only-of-type {\n",
              "        vertical-align: middle;\n",
              "    }\n",
              "\n",
              "    .dataframe tbody tr th {\n",
              "        vertical-align: top;\n",
              "    }\n",
              "\n",
              "    .dataframe thead th {\n",
              "        text-align: right;\n",
              "    }\n",
              "</style>\n",
              "<table border=\"1\" class=\"dataframe\">\n",
              "  <thead>\n",
              "    <tr style=\"text-align: right;\">\n",
              "      <th></th>\n",
              "      <th>Date</th>\n",
              "      <th>Open</th>\n",
              "      <th>High</th>\n",
              "      <th>Low</th>\n",
              "      <th>Close</th>\n",
              "      <th>Adj Close</th>\n",
              "      <th>Volume</th>\n",
              "      <th>Year</th>\n",
              "      <th>Quarter</th>\n",
              "    </tr>\n",
              "  </thead>\n",
              "  <tbody>\n",
              "    <tr>\n",
              "      <th>0</th>\n",
              "      <td>1971-02-05</td>\n",
              "      <td>100.000000</td>\n",
              "      <td>100.000000</td>\n",
              "      <td>100.000000</td>\n",
              "      <td>100.000000</td>\n",
              "      <td>100.000000</td>\n",
              "      <td>0</td>\n",
              "      <td>1971</td>\n",
              "      <td>1</td>\n",
              "    </tr>\n",
              "    <tr>\n",
              "      <th>1</th>\n",
              "      <td>1971-02-08</td>\n",
              "      <td>100.839996</td>\n",
              "      <td>100.839996</td>\n",
              "      <td>100.839996</td>\n",
              "      <td>100.839996</td>\n",
              "      <td>100.839996</td>\n",
              "      <td>0</td>\n",
              "      <td>1971</td>\n",
              "      <td>1</td>\n",
              "    </tr>\n",
              "    <tr>\n",
              "      <th>2</th>\n",
              "      <td>1971-02-09</td>\n",
              "      <td>100.760002</td>\n",
              "      <td>100.760002</td>\n",
              "      <td>100.760002</td>\n",
              "      <td>100.760002</td>\n",
              "      <td>100.760002</td>\n",
              "      <td>0</td>\n",
              "      <td>1971</td>\n",
              "      <td>1</td>\n",
              "    </tr>\n",
              "    <tr>\n",
              "      <th>3</th>\n",
              "      <td>1971-02-10</td>\n",
              "      <td>100.690002</td>\n",
              "      <td>100.690002</td>\n",
              "      <td>100.690002</td>\n",
              "      <td>100.690002</td>\n",
              "      <td>100.690002</td>\n",
              "      <td>0</td>\n",
              "      <td>1971</td>\n",
              "      <td>1</td>\n",
              "    </tr>\n",
              "  </tbody>\n",
              "</table>\n",
              "</div>"
            ],
            "text/plain": [
              "        Date        Open        High  ...  Volume  Year  Quarter\n",
              "0 1971-02-05  100.000000  100.000000  ...       0  1971        1\n",
              "1 1971-02-08  100.839996  100.839996  ...       0  1971        1\n",
              "2 1971-02-09  100.760002  100.760002  ...       0  1971        1\n",
              "3 1971-02-10  100.690002  100.690002  ...       0  1971        1\n",
              "\n",
              "[4 rows x 9 columns]"
            ]
          },
          "metadata": {
            "tags": []
          },
          "execution_count": 5
        }
      ]
    },
    {
      "cell_type": "code",
      "metadata": {
        "id": "lMfNi_aplU2r",
        "colab_type": "code",
        "colab": {}
      },
      "source": [
        "#I want to categorize the Volume columns\n",
        "data['Volume'] = abs(data[\"Volume\"])\n",
        "data['Bins'] = pd.cut((data['Volume']),3, labels=False)\n",
        "data['Change'] = data['Close'] - data['Open']\n",
        "\n",
        "#create a statistic based on aggregation\n",
        "data['%Change'] = (data['Change']/data['Open']) *100\n",
        "\n",
        "#classify the aggregative statistic.\n",
        "data[\"Direction\"] = data['Change'].apply(lambda x: 1 if x >0 else 0)"
      ],
      "execution_count": 0,
      "outputs": []
    },
    {
      "cell_type": "code",
      "metadata": {
        "id": "n6Wmb_yvoM8j",
        "colab_type": "code",
        "outputId": "9ffe93c8-1aa4-45ef-bf21-cc5990189dd0",
        "colab": {
          "base_uri": "https://localhost:8080/",
          "height": 173
        }
      },
      "source": [
        "data.head(4)"
      ],
      "execution_count": 0,
      "outputs": [
        {
          "output_type": "execute_result",
          "data": {
            "text/html": [
              "<div>\n",
              "<style scoped>\n",
              "    .dataframe tbody tr th:only-of-type {\n",
              "        vertical-align: middle;\n",
              "    }\n",
              "\n",
              "    .dataframe tbody tr th {\n",
              "        vertical-align: top;\n",
              "    }\n",
              "\n",
              "    .dataframe thead th {\n",
              "        text-align: right;\n",
              "    }\n",
              "</style>\n",
              "<table border=\"1\" class=\"dataframe\">\n",
              "  <thead>\n",
              "    <tr style=\"text-align: right;\">\n",
              "      <th></th>\n",
              "      <th>Date</th>\n",
              "      <th>Open</th>\n",
              "      <th>High</th>\n",
              "      <th>Low</th>\n",
              "      <th>Close</th>\n",
              "      <th>Adj Close</th>\n",
              "      <th>Volume</th>\n",
              "      <th>Year</th>\n",
              "      <th>Quarter</th>\n",
              "      <th>Bins</th>\n",
              "      <th>Change</th>\n",
              "      <th>%Change</th>\n",
              "      <th>Direction</th>\n",
              "    </tr>\n",
              "  </thead>\n",
              "  <tbody>\n",
              "    <tr>\n",
              "      <th>0</th>\n",
              "      <td>1971-02-05</td>\n",
              "      <td>100.000000</td>\n",
              "      <td>100.000000</td>\n",
              "      <td>100.000000</td>\n",
              "      <td>100.000000</td>\n",
              "      <td>100.000000</td>\n",
              "      <td>0</td>\n",
              "      <td>1971</td>\n",
              "      <td>1</td>\n",
              "      <td>0</td>\n",
              "      <td>0.0</td>\n",
              "      <td>0.0</td>\n",
              "      <td>0</td>\n",
              "    </tr>\n",
              "    <tr>\n",
              "      <th>1</th>\n",
              "      <td>1971-02-08</td>\n",
              "      <td>100.839996</td>\n",
              "      <td>100.839996</td>\n",
              "      <td>100.839996</td>\n",
              "      <td>100.839996</td>\n",
              "      <td>100.839996</td>\n",
              "      <td>0</td>\n",
              "      <td>1971</td>\n",
              "      <td>1</td>\n",
              "      <td>0</td>\n",
              "      <td>0.0</td>\n",
              "      <td>0.0</td>\n",
              "      <td>0</td>\n",
              "    </tr>\n",
              "    <tr>\n",
              "      <th>2</th>\n",
              "      <td>1971-02-09</td>\n",
              "      <td>100.760002</td>\n",
              "      <td>100.760002</td>\n",
              "      <td>100.760002</td>\n",
              "      <td>100.760002</td>\n",
              "      <td>100.760002</td>\n",
              "      <td>0</td>\n",
              "      <td>1971</td>\n",
              "      <td>1</td>\n",
              "      <td>0</td>\n",
              "      <td>0.0</td>\n",
              "      <td>0.0</td>\n",
              "      <td>0</td>\n",
              "    </tr>\n",
              "    <tr>\n",
              "      <th>3</th>\n",
              "      <td>1971-02-10</td>\n",
              "      <td>100.690002</td>\n",
              "      <td>100.690002</td>\n",
              "      <td>100.690002</td>\n",
              "      <td>100.690002</td>\n",
              "      <td>100.690002</td>\n",
              "      <td>0</td>\n",
              "      <td>1971</td>\n",
              "      <td>1</td>\n",
              "      <td>0</td>\n",
              "      <td>0.0</td>\n",
              "      <td>0.0</td>\n",
              "      <td>0</td>\n",
              "    </tr>\n",
              "  </tbody>\n",
              "</table>\n",
              "</div>"
            ],
            "text/plain": [
              "        Date        Open        High  ...  Change  %Change  Direction\n",
              "0 1971-02-05  100.000000  100.000000  ...     0.0      0.0          0\n",
              "1 1971-02-08  100.839996  100.839996  ...     0.0      0.0          0\n",
              "2 1971-02-09  100.760002  100.760002  ...     0.0      0.0          0\n",
              "3 1971-02-10  100.690002  100.690002  ...     0.0      0.0          0\n",
              "\n",
              "[4 rows x 13 columns]"
            ]
          },
          "metadata": {
            "tags": []
          },
          "execution_count": 7
        }
      ]
    },
    {
      "cell_type": "code",
      "metadata": {
        "id": "ZlEn99L55iTd",
        "colab_type": "code",
        "colab": {}
      },
      "source": [
        "#SMA - Simple Moving Average:\n",
        "data['Mid'] = (data['Close'] + data['Open'])/2"
      ],
      "execution_count": 0,
      "outputs": []
    },
    {
      "cell_type": "code",
      "metadata": {
        "id": "2g4_luAgoQ5L",
        "colab_type": "code",
        "outputId": "63952cb7-40d7-4bd2-ad8e-125404818d3f",
        "colab": {
          "base_uri": "https://localhost:8080/",
          "height": 204
        }
      },
      "source": [
        "data.head()"
      ],
      "execution_count": 0,
      "outputs": [
        {
          "output_type": "execute_result",
          "data": {
            "text/html": [
              "<div>\n",
              "<style scoped>\n",
              "    .dataframe tbody tr th:only-of-type {\n",
              "        vertical-align: middle;\n",
              "    }\n",
              "\n",
              "    .dataframe tbody tr th {\n",
              "        vertical-align: top;\n",
              "    }\n",
              "\n",
              "    .dataframe thead th {\n",
              "        text-align: right;\n",
              "    }\n",
              "</style>\n",
              "<table border=\"1\" class=\"dataframe\">\n",
              "  <thead>\n",
              "    <tr style=\"text-align: right;\">\n",
              "      <th></th>\n",
              "      <th>Date</th>\n",
              "      <th>Open</th>\n",
              "      <th>High</th>\n",
              "      <th>Low</th>\n",
              "      <th>Close</th>\n",
              "      <th>Adj Close</th>\n",
              "      <th>Volume</th>\n",
              "      <th>Year</th>\n",
              "      <th>Quarter</th>\n",
              "      <th>Bins</th>\n",
              "      <th>Change</th>\n",
              "      <th>%Change</th>\n",
              "      <th>Direction</th>\n",
              "      <th>Mid</th>\n",
              "    </tr>\n",
              "  </thead>\n",
              "  <tbody>\n",
              "    <tr>\n",
              "      <th>0</th>\n",
              "      <td>1971-02-05</td>\n",
              "      <td>100.000000</td>\n",
              "      <td>100.000000</td>\n",
              "      <td>100.000000</td>\n",
              "      <td>100.000000</td>\n",
              "      <td>100.000000</td>\n",
              "      <td>0</td>\n",
              "      <td>1971</td>\n",
              "      <td>1</td>\n",
              "      <td>0</td>\n",
              "      <td>0.0</td>\n",
              "      <td>0.0</td>\n",
              "      <td>0</td>\n",
              "      <td>100.000000</td>\n",
              "    </tr>\n",
              "    <tr>\n",
              "      <th>1</th>\n",
              "      <td>1971-02-08</td>\n",
              "      <td>100.839996</td>\n",
              "      <td>100.839996</td>\n",
              "      <td>100.839996</td>\n",
              "      <td>100.839996</td>\n",
              "      <td>100.839996</td>\n",
              "      <td>0</td>\n",
              "      <td>1971</td>\n",
              "      <td>1</td>\n",
              "      <td>0</td>\n",
              "      <td>0.0</td>\n",
              "      <td>0.0</td>\n",
              "      <td>0</td>\n",
              "      <td>100.839996</td>\n",
              "    </tr>\n",
              "    <tr>\n",
              "      <th>2</th>\n",
              "      <td>1971-02-09</td>\n",
              "      <td>100.760002</td>\n",
              "      <td>100.760002</td>\n",
              "      <td>100.760002</td>\n",
              "      <td>100.760002</td>\n",
              "      <td>100.760002</td>\n",
              "      <td>0</td>\n",
              "      <td>1971</td>\n",
              "      <td>1</td>\n",
              "      <td>0</td>\n",
              "      <td>0.0</td>\n",
              "      <td>0.0</td>\n",
              "      <td>0</td>\n",
              "      <td>100.760002</td>\n",
              "    </tr>\n",
              "    <tr>\n",
              "      <th>3</th>\n",
              "      <td>1971-02-10</td>\n",
              "      <td>100.690002</td>\n",
              "      <td>100.690002</td>\n",
              "      <td>100.690002</td>\n",
              "      <td>100.690002</td>\n",
              "      <td>100.690002</td>\n",
              "      <td>0</td>\n",
              "      <td>1971</td>\n",
              "      <td>1</td>\n",
              "      <td>0</td>\n",
              "      <td>0.0</td>\n",
              "      <td>0.0</td>\n",
              "      <td>0</td>\n",
              "      <td>100.690002</td>\n",
              "    </tr>\n",
              "    <tr>\n",
              "      <th>4</th>\n",
              "      <td>1971-02-11</td>\n",
              "      <td>101.449997</td>\n",
              "      <td>101.449997</td>\n",
              "      <td>101.449997</td>\n",
              "      <td>101.449997</td>\n",
              "      <td>101.449997</td>\n",
              "      <td>0</td>\n",
              "      <td>1971</td>\n",
              "      <td>1</td>\n",
              "      <td>0</td>\n",
              "      <td>0.0</td>\n",
              "      <td>0.0</td>\n",
              "      <td>0</td>\n",
              "      <td>101.449997</td>\n",
              "    </tr>\n",
              "  </tbody>\n",
              "</table>\n",
              "</div>"
            ],
            "text/plain": [
              "        Date        Open        High  ...  %Change  Direction         Mid\n",
              "0 1971-02-05  100.000000  100.000000  ...      0.0          0  100.000000\n",
              "1 1971-02-08  100.839996  100.839996  ...      0.0          0  100.839996\n",
              "2 1971-02-09  100.760002  100.760002  ...      0.0          0  100.760002\n",
              "3 1971-02-10  100.690002  100.690002  ...      0.0          0  100.690002\n",
              "4 1971-02-11  101.449997  101.449997  ...      0.0          0  101.449997\n",
              "\n",
              "[5 rows x 14 columns]"
            ]
          },
          "metadata": {
            "tags": []
          },
          "execution_count": 9
        }
      ]
    },
    {
      "cell_type": "code",
      "metadata": {
        "id": "BiYV_sql58Wk",
        "colab_type": "code",
        "colab": {}
      },
      "source": [
        "#Rolling Mean\n",
        "\n",
        "data['SMA1'] = data['Mid'].rolling(12).mean()\n",
        "data['SMA2'] = data['Mid'].rolling(36).mean()"
      ],
      "execution_count": 0,
      "outputs": []
    },
    {
      "cell_type": "code",
      "metadata": {
        "id": "3gvMQQ32oToF",
        "colab_type": "code",
        "outputId": "1ac2bc72-d5af-47ce-b61c-8c1085acafe2",
        "colab": {
          "base_uri": "https://localhost:8080/",
          "height": 258
        }
      },
      "source": [
        "data.head(4)"
      ],
      "execution_count": 0,
      "outputs": [
        {
          "output_type": "execute_result",
          "data": {
            "text/html": [
              "<div>\n",
              "<style scoped>\n",
              "    .dataframe tbody tr th:only-of-type {\n",
              "        vertical-align: middle;\n",
              "    }\n",
              "\n",
              "    .dataframe tbody tr th {\n",
              "        vertical-align: top;\n",
              "    }\n",
              "\n",
              "    .dataframe thead th {\n",
              "        text-align: right;\n",
              "    }\n",
              "</style>\n",
              "<table border=\"1\" class=\"dataframe\">\n",
              "  <thead>\n",
              "    <tr style=\"text-align: right;\">\n",
              "      <th></th>\n",
              "      <th>Date</th>\n",
              "      <th>Open</th>\n",
              "      <th>High</th>\n",
              "      <th>Low</th>\n",
              "      <th>Close</th>\n",
              "      <th>Adj Close</th>\n",
              "      <th>Volume</th>\n",
              "      <th>Year</th>\n",
              "      <th>Quarter</th>\n",
              "      <th>Bins</th>\n",
              "      <th>Change</th>\n",
              "      <th>%Change</th>\n",
              "      <th>Direction</th>\n",
              "      <th>Mid</th>\n",
              "      <th>SMA1</th>\n",
              "      <th>SMA2</th>\n",
              "    </tr>\n",
              "  </thead>\n",
              "  <tbody>\n",
              "    <tr>\n",
              "      <th>0</th>\n",
              "      <td>1971-02-05</td>\n",
              "      <td>100.000000</td>\n",
              "      <td>100.000000</td>\n",
              "      <td>100.000000</td>\n",
              "      <td>100.000000</td>\n",
              "      <td>100.000000</td>\n",
              "      <td>0</td>\n",
              "      <td>1971</td>\n",
              "      <td>1</td>\n",
              "      <td>0</td>\n",
              "      <td>0.0</td>\n",
              "      <td>0.0</td>\n",
              "      <td>0</td>\n",
              "      <td>100.000000</td>\n",
              "      <td>NaN</td>\n",
              "      <td>NaN</td>\n",
              "    </tr>\n",
              "    <tr>\n",
              "      <th>1</th>\n",
              "      <td>1971-02-08</td>\n",
              "      <td>100.839996</td>\n",
              "      <td>100.839996</td>\n",
              "      <td>100.839996</td>\n",
              "      <td>100.839996</td>\n",
              "      <td>100.839996</td>\n",
              "      <td>0</td>\n",
              "      <td>1971</td>\n",
              "      <td>1</td>\n",
              "      <td>0</td>\n",
              "      <td>0.0</td>\n",
              "      <td>0.0</td>\n",
              "      <td>0</td>\n",
              "      <td>100.839996</td>\n",
              "      <td>NaN</td>\n",
              "      <td>NaN</td>\n",
              "    </tr>\n",
              "    <tr>\n",
              "      <th>2</th>\n",
              "      <td>1971-02-09</td>\n",
              "      <td>100.760002</td>\n",
              "      <td>100.760002</td>\n",
              "      <td>100.760002</td>\n",
              "      <td>100.760002</td>\n",
              "      <td>100.760002</td>\n",
              "      <td>0</td>\n",
              "      <td>1971</td>\n",
              "      <td>1</td>\n",
              "      <td>0</td>\n",
              "      <td>0.0</td>\n",
              "      <td>0.0</td>\n",
              "      <td>0</td>\n",
              "      <td>100.760002</td>\n",
              "      <td>NaN</td>\n",
              "      <td>NaN</td>\n",
              "    </tr>\n",
              "    <tr>\n",
              "      <th>3</th>\n",
              "      <td>1971-02-10</td>\n",
              "      <td>100.690002</td>\n",
              "      <td>100.690002</td>\n",
              "      <td>100.690002</td>\n",
              "      <td>100.690002</td>\n",
              "      <td>100.690002</td>\n",
              "      <td>0</td>\n",
              "      <td>1971</td>\n",
              "      <td>1</td>\n",
              "      <td>0</td>\n",
              "      <td>0.0</td>\n",
              "      <td>0.0</td>\n",
              "      <td>0</td>\n",
              "      <td>100.690002</td>\n",
              "      <td>NaN</td>\n",
              "      <td>NaN</td>\n",
              "    </tr>\n",
              "  </tbody>\n",
              "</table>\n",
              "</div>"
            ],
            "text/plain": [
              "        Date        Open        High  ...         Mid  SMA1  SMA2\n",
              "0 1971-02-05  100.000000  100.000000  ...  100.000000   NaN   NaN\n",
              "1 1971-02-08  100.839996  100.839996  ...  100.839996   NaN   NaN\n",
              "2 1971-02-09  100.760002  100.760002  ...  100.760002   NaN   NaN\n",
              "3 1971-02-10  100.690002  100.690002  ...  100.690002   NaN   NaN\n",
              "\n",
              "[4 rows x 16 columns]"
            ]
          },
          "metadata": {
            "tags": []
          },
          "execution_count": 11
        }
      ]
    },
    {
      "cell_type": "code",
      "metadata": {
        "id": "dlyNpaxT8IYq",
        "colab_type": "code",
        "colab": {}
      },
      "source": [
        "#this is an alias for the dates, so we can plot using this instead of using the dates to plot the data\n",
        "data['Ticks'] = range(0, len(data.Date.index))"
      ],
      "execution_count": 0,
      "outputs": []
    },
    {
      "cell_type": "code",
      "metadata": {
        "id": "uU-b1eGtoWJo",
        "colab_type": "code",
        "outputId": "ed998d41-e14c-4fbb-f3c8-f9a8ab0aa984",
        "colab": {
          "base_uri": "https://localhost:8080/",
          "height": 278
        }
      },
      "source": [
        "data.head(4)"
      ],
      "execution_count": 0,
      "outputs": [
        {
          "output_type": "execute_result",
          "data": {
            "text/html": [
              "<div>\n",
              "<style scoped>\n",
              "    .dataframe tbody tr th:only-of-type {\n",
              "        vertical-align: middle;\n",
              "    }\n",
              "\n",
              "    .dataframe tbody tr th {\n",
              "        vertical-align: top;\n",
              "    }\n",
              "\n",
              "    .dataframe thead th {\n",
              "        text-align: right;\n",
              "    }\n",
              "</style>\n",
              "<table border=\"1\" class=\"dataframe\">\n",
              "  <thead>\n",
              "    <tr style=\"text-align: right;\">\n",
              "      <th></th>\n",
              "      <th>Date</th>\n",
              "      <th>Open</th>\n",
              "      <th>High</th>\n",
              "      <th>Low</th>\n",
              "      <th>Close</th>\n",
              "      <th>Adj Close</th>\n",
              "      <th>Volume</th>\n",
              "      <th>Year</th>\n",
              "      <th>Quarter</th>\n",
              "      <th>Bins</th>\n",
              "      <th>Change</th>\n",
              "      <th>%Change</th>\n",
              "      <th>Direction</th>\n",
              "      <th>Mid</th>\n",
              "      <th>SMA1</th>\n",
              "      <th>SMA2</th>\n",
              "      <th>Ticks</th>\n",
              "    </tr>\n",
              "  </thead>\n",
              "  <tbody>\n",
              "    <tr>\n",
              "      <th>0</th>\n",
              "      <td>1971-02-05</td>\n",
              "      <td>100.000000</td>\n",
              "      <td>100.000000</td>\n",
              "      <td>100.000000</td>\n",
              "      <td>100.000000</td>\n",
              "      <td>100.000000</td>\n",
              "      <td>0</td>\n",
              "      <td>1971</td>\n",
              "      <td>1</td>\n",
              "      <td>0</td>\n",
              "      <td>0.0</td>\n",
              "      <td>0.0</td>\n",
              "      <td>0</td>\n",
              "      <td>100.000000</td>\n",
              "      <td>NaN</td>\n",
              "      <td>NaN</td>\n",
              "      <td>0</td>\n",
              "    </tr>\n",
              "    <tr>\n",
              "      <th>1</th>\n",
              "      <td>1971-02-08</td>\n",
              "      <td>100.839996</td>\n",
              "      <td>100.839996</td>\n",
              "      <td>100.839996</td>\n",
              "      <td>100.839996</td>\n",
              "      <td>100.839996</td>\n",
              "      <td>0</td>\n",
              "      <td>1971</td>\n",
              "      <td>1</td>\n",
              "      <td>0</td>\n",
              "      <td>0.0</td>\n",
              "      <td>0.0</td>\n",
              "      <td>0</td>\n",
              "      <td>100.839996</td>\n",
              "      <td>NaN</td>\n",
              "      <td>NaN</td>\n",
              "      <td>1</td>\n",
              "    </tr>\n",
              "    <tr>\n",
              "      <th>2</th>\n",
              "      <td>1971-02-09</td>\n",
              "      <td>100.760002</td>\n",
              "      <td>100.760002</td>\n",
              "      <td>100.760002</td>\n",
              "      <td>100.760002</td>\n",
              "      <td>100.760002</td>\n",
              "      <td>0</td>\n",
              "      <td>1971</td>\n",
              "      <td>1</td>\n",
              "      <td>0</td>\n",
              "      <td>0.0</td>\n",
              "      <td>0.0</td>\n",
              "      <td>0</td>\n",
              "      <td>100.760002</td>\n",
              "      <td>NaN</td>\n",
              "      <td>NaN</td>\n",
              "      <td>2</td>\n",
              "    </tr>\n",
              "    <tr>\n",
              "      <th>3</th>\n",
              "      <td>1971-02-10</td>\n",
              "      <td>100.690002</td>\n",
              "      <td>100.690002</td>\n",
              "      <td>100.690002</td>\n",
              "      <td>100.690002</td>\n",
              "      <td>100.690002</td>\n",
              "      <td>0</td>\n",
              "      <td>1971</td>\n",
              "      <td>1</td>\n",
              "      <td>0</td>\n",
              "      <td>0.0</td>\n",
              "      <td>0.0</td>\n",
              "      <td>0</td>\n",
              "      <td>100.690002</td>\n",
              "      <td>NaN</td>\n",
              "      <td>NaN</td>\n",
              "      <td>3</td>\n",
              "    </tr>\n",
              "  </tbody>\n",
              "</table>\n",
              "</div>"
            ],
            "text/plain": [
              "        Date        Open        High         Low  ...         Mid  SMA1  SMA2  Ticks\n",
              "0 1971-02-05  100.000000  100.000000  100.000000  ...  100.000000   NaN   NaN      0\n",
              "1 1971-02-08  100.839996  100.839996  100.839996  ...  100.839996   NaN   NaN      1\n",
              "2 1971-02-09  100.760002  100.760002  100.760002  ...  100.760002   NaN   NaN      2\n",
              "3 1971-02-10  100.690002  100.690002  100.690002  ...  100.690002   NaN   NaN      3\n",
              "\n",
              "[4 rows x 17 columns]"
            ]
          },
          "metadata": {
            "tags": []
          },
          "execution_count": 13
        }
      ]
    },
    {
      "cell_type": "code",
      "metadata": {
        "id": "UiHQR46QZ_Ax",
        "colab_type": "code",
        "outputId": "d49b49a3-ae76-4f7d-ab1a-fcf67eac192c",
        "colab": {
          "base_uri": "https://localhost:8080/",
          "height": 309
        }
      },
      "source": [
        "#Let's take a look at the tail columns of the data\n",
        "data.tail(5)"
      ],
      "execution_count": 0,
      "outputs": [
        {
          "output_type": "execute_result",
          "data": {
            "text/html": [
              "<div>\n",
              "<style scoped>\n",
              "    .dataframe tbody tr th:only-of-type {\n",
              "        vertical-align: middle;\n",
              "    }\n",
              "\n",
              "    .dataframe tbody tr th {\n",
              "        vertical-align: top;\n",
              "    }\n",
              "\n",
              "    .dataframe thead th {\n",
              "        text-align: right;\n",
              "    }\n",
              "</style>\n",
              "<table border=\"1\" class=\"dataframe\">\n",
              "  <thead>\n",
              "    <tr style=\"text-align: right;\">\n",
              "      <th></th>\n",
              "      <th>Date</th>\n",
              "      <th>Open</th>\n",
              "      <th>High</th>\n",
              "      <th>Low</th>\n",
              "      <th>Close</th>\n",
              "      <th>Adj Close</th>\n",
              "      <th>Volume</th>\n",
              "      <th>Year</th>\n",
              "      <th>Quarter</th>\n",
              "      <th>Bins</th>\n",
              "      <th>Change</th>\n",
              "      <th>%Change</th>\n",
              "      <th>Direction</th>\n",
              "      <th>Mid</th>\n",
              "      <th>SMA1</th>\n",
              "      <th>SMA2</th>\n",
              "      <th>Ticks</th>\n",
              "    </tr>\n",
              "  </thead>\n",
              "  <tbody>\n",
              "    <tr>\n",
              "      <th>12408</th>\n",
              "      <td>2020-04-17</td>\n",
              "      <td>8667.480469</td>\n",
              "      <td>8670.299805</td>\n",
              "      <td>8531.690430</td>\n",
              "      <td>8650.139648</td>\n",
              "      <td>8650.139648</td>\n",
              "      <td>4335020000</td>\n",
              "      <td>2020</td>\n",
              "      <td>2</td>\n",
              "      <td>2</td>\n",
              "      <td>-17.340821</td>\n",
              "      <td>-0.200068</td>\n",
              "      <td>0</td>\n",
              "      <td>8658.810058</td>\n",
              "      <td>8030.097961</td>\n",
              "      <td>7893.377753</td>\n",
              "      <td>12408</td>\n",
              "    </tr>\n",
              "    <tr>\n",
              "      <th>12409</th>\n",
              "      <td>2020-04-20</td>\n",
              "      <td>8553.379883</td>\n",
              "      <td>8684.910156</td>\n",
              "      <td>8553.379883</td>\n",
              "      <td>8560.730469</td>\n",
              "      <td>8560.730469</td>\n",
              "      <td>3796950000</td>\n",
              "      <td>2020</td>\n",
              "      <td>2</td>\n",
              "      <td>2</td>\n",
              "      <td>7.350586</td>\n",
              "      <td>0.085938</td>\n",
              "      <td>1</td>\n",
              "      <td>8557.055176</td>\n",
              "      <td>8125.682556</td>\n",
              "      <td>7890.649970</td>\n",
              "      <td>12409</td>\n",
              "    </tr>\n",
              "    <tr>\n",
              "      <th>12410</th>\n",
              "      <td>2020-04-21</td>\n",
              "      <td>8460.690430</td>\n",
              "      <td>8480.290039</td>\n",
              "      <td>8215.690430</td>\n",
              "      <td>8263.230469</td>\n",
              "      <td>8263.230469</td>\n",
              "      <td>3756290000</td>\n",
              "      <td>2020</td>\n",
              "      <td>2</td>\n",
              "      <td>2</td>\n",
              "      <td>-197.459961</td>\n",
              "      <td>-2.333852</td>\n",
              "      <td>0</td>\n",
              "      <td>8361.960450</td>\n",
              "      <td>8205.647583</td>\n",
              "      <td>7889.077894</td>\n",
              "      <td>12410</td>\n",
              "    </tr>\n",
              "    <tr>\n",
              "      <th>12411</th>\n",
              "      <td>2020-04-22</td>\n",
              "      <td>8434.549805</td>\n",
              "      <td>8537.309570</td>\n",
              "      <td>8404.540039</td>\n",
              "      <td>8495.379883</td>\n",
              "      <td>8495.379883</td>\n",
              "      <td>3025060000</td>\n",
              "      <td>2020</td>\n",
              "      <td>2</td>\n",
              "      <td>1</td>\n",
              "      <td>60.830078</td>\n",
              "      <td>0.721201</td>\n",
              "      <td>1</td>\n",
              "      <td>8464.964844</td>\n",
              "      <td>8292.296733</td>\n",
              "      <td>7879.503174</td>\n",
              "      <td>12411</td>\n",
              "    </tr>\n",
              "    <tr>\n",
              "      <th>12412</th>\n",
              "      <td>2020-04-23</td>\n",
              "      <td>8528.839844</td>\n",
              "      <td>8635.230469</td>\n",
              "      <td>8475.200195</td>\n",
              "      <td>8494.750000</td>\n",
              "      <td>8494.750000</td>\n",
              "      <td>3734720000</td>\n",
              "      <td>2020</td>\n",
              "      <td>2</td>\n",
              "      <td>2</td>\n",
              "      <td>-34.089844</td>\n",
              "      <td>-0.399701</td>\n",
              "      <td>0</td>\n",
              "      <td>8511.794922</td>\n",
              "      <td>8352.720886</td>\n",
              "      <td>7870.814290</td>\n",
              "      <td>12412</td>\n",
              "    </tr>\n",
              "  </tbody>\n",
              "</table>\n",
              "</div>"
            ],
            "text/plain": [
              "            Date         Open         High  ...         SMA1         SMA2  Ticks\n",
              "12408 2020-04-17  8667.480469  8670.299805  ...  8030.097961  7893.377753  12408\n",
              "12409 2020-04-20  8553.379883  8684.910156  ...  8125.682556  7890.649970  12409\n",
              "12410 2020-04-21  8460.690430  8480.290039  ...  8205.647583  7889.077894  12410\n",
              "12411 2020-04-22  8434.549805  8537.309570  ...  8292.296733  7879.503174  12411\n",
              "12412 2020-04-23  8528.839844  8635.230469  ...  8352.720886  7870.814290  12412\n",
              "\n",
              "[5 rows x 17 columns]"
            ]
          },
          "metadata": {
            "tags": []
          },
          "execution_count": 14
        }
      ]
    },
    {
      "cell_type": "code",
      "metadata": {
        "id": "QECGt8AxaAvQ",
        "colab_type": "code",
        "colab": {}
      },
      "source": [
        "#I am going to drop add the NA values\n",
        "data.dropna(inplace=True)"
      ],
      "execution_count": 0,
      "outputs": []
    },
    {
      "cell_type": "code",
      "metadata": {
        "id": "_VTSnlV1aTX9",
        "colab_type": "code",
        "outputId": "91ae634b-f79a-4744-e254-a7c4bd74a62f",
        "colab": {
          "base_uri": "https://localhost:8080/",
          "height": 34
        }
      },
      "source": [
        "#what is the size of the data?\n",
        "data.shape"
      ],
      "execution_count": 0,
      "outputs": [
        {
          "output_type": "execute_result",
          "data": {
            "text/plain": [
              "(12378, 17)"
            ]
          },
          "metadata": {
            "tags": []
          },
          "execution_count": 16
        }
      ]
    },
    {
      "cell_type": "code",
      "metadata": {
        "id": "oAjUPdHUpBGM",
        "colab_type": "code",
        "outputId": "3942dba9-bff4-4f93-c30b-a1699aa21a42",
        "colab": {
          "base_uri": "https://localhost:8080/",
          "height": 326
        }
      },
      "source": [
        "data.head()"
      ],
      "execution_count": 0,
      "outputs": [
        {
          "output_type": "execute_result",
          "data": {
            "text/html": [
              "<div>\n",
              "<style scoped>\n",
              "    .dataframe tbody tr th:only-of-type {\n",
              "        vertical-align: middle;\n",
              "    }\n",
              "\n",
              "    .dataframe tbody tr th {\n",
              "        vertical-align: top;\n",
              "    }\n",
              "\n",
              "    .dataframe thead th {\n",
              "        text-align: right;\n",
              "    }\n",
              "</style>\n",
              "<table border=\"1\" class=\"dataframe\">\n",
              "  <thead>\n",
              "    <tr style=\"text-align: right;\">\n",
              "      <th></th>\n",
              "      <th>Date</th>\n",
              "      <th>Open</th>\n",
              "      <th>High</th>\n",
              "      <th>Low</th>\n",
              "      <th>Close</th>\n",
              "      <th>Adj Close</th>\n",
              "      <th>Volume</th>\n",
              "      <th>Year</th>\n",
              "      <th>Quarter</th>\n",
              "      <th>Bins</th>\n",
              "      <th>Change</th>\n",
              "      <th>%Change</th>\n",
              "      <th>Direction</th>\n",
              "      <th>Mid</th>\n",
              "      <th>SMA1</th>\n",
              "      <th>SMA2</th>\n",
              "      <th>Ticks</th>\n",
              "    </tr>\n",
              "  </thead>\n",
              "  <tbody>\n",
              "    <tr>\n",
              "      <th>35</th>\n",
              "      <td>1971-03-29</td>\n",
              "      <td>105.199997</td>\n",
              "      <td>105.199997</td>\n",
              "      <td>105.199997</td>\n",
              "      <td>105.199997</td>\n",
              "      <td>105.199997</td>\n",
              "      <td>0</td>\n",
              "      <td>1971</td>\n",
              "      <td>1</td>\n",
              "      <td>0</td>\n",
              "      <td>0.0</td>\n",
              "      <td>0.0</td>\n",
              "      <td>0</td>\n",
              "      <td>105.199997</td>\n",
              "      <td>105.199165</td>\n",
              "      <td>102.926388</td>\n",
              "      <td>35</td>\n",
              "    </tr>\n",
              "    <tr>\n",
              "      <th>36</th>\n",
              "      <td>1971-03-30</td>\n",
              "      <td>105.440002</td>\n",
              "      <td>105.440002</td>\n",
              "      <td>105.440002</td>\n",
              "      <td>105.440002</td>\n",
              "      <td>105.440002</td>\n",
              "      <td>0</td>\n",
              "      <td>1971</td>\n",
              "      <td>1</td>\n",
              "      <td>0</td>\n",
              "      <td>0.0</td>\n",
              "      <td>0.0</td>\n",
              "      <td>0</td>\n",
              "      <td>105.440002</td>\n",
              "      <td>105.277499</td>\n",
              "      <td>103.077500</td>\n",
              "      <td>36</td>\n",
              "    </tr>\n",
              "    <tr>\n",
              "      <th>37</th>\n",
              "      <td>1971-03-31</td>\n",
              "      <td>105.970001</td>\n",
              "      <td>105.970001</td>\n",
              "      <td>105.970001</td>\n",
              "      <td>105.970001</td>\n",
              "      <td>105.970001</td>\n",
              "      <td>0</td>\n",
              "      <td>1971</td>\n",
              "      <td>1</td>\n",
              "      <td>0</td>\n",
              "      <td>0.0</td>\n",
              "      <td>0.0</td>\n",
              "      <td>0</td>\n",
              "      <td>105.970001</td>\n",
              "      <td>105.347499</td>\n",
              "      <td>103.220000</td>\n",
              "      <td>37</td>\n",
              "    </tr>\n",
              "    <tr>\n",
              "      <th>38</th>\n",
              "      <td>1971-04-01</td>\n",
              "      <td>106.339996</td>\n",
              "      <td>106.339996</td>\n",
              "      <td>106.339996</td>\n",
              "      <td>106.339996</td>\n",
              "      <td>106.339996</td>\n",
              "      <td>0</td>\n",
              "      <td>1971</td>\n",
              "      <td>2</td>\n",
              "      <td>0</td>\n",
              "      <td>0.0</td>\n",
              "      <td>0.0</td>\n",
              "      <td>0</td>\n",
              "      <td>106.339996</td>\n",
              "      <td>105.412499</td>\n",
              "      <td>103.375000</td>\n",
              "      <td>38</td>\n",
              "    </tr>\n",
              "    <tr>\n",
              "      <th>39</th>\n",
              "      <td>1971-04-02</td>\n",
              "      <td>106.860001</td>\n",
              "      <td>106.860001</td>\n",
              "      <td>106.860001</td>\n",
              "      <td>106.860001</td>\n",
              "      <td>106.860001</td>\n",
              "      <td>0</td>\n",
              "      <td>1971</td>\n",
              "      <td>2</td>\n",
              "      <td>0</td>\n",
              "      <td>0.0</td>\n",
              "      <td>0.0</td>\n",
              "      <td>0</td>\n",
              "      <td>106.860001</td>\n",
              "      <td>105.525832</td>\n",
              "      <td>103.546388</td>\n",
              "      <td>39</td>\n",
              "    </tr>\n",
              "  </tbody>\n",
              "</table>\n",
              "</div>"
            ],
            "text/plain": [
              "         Date        Open        High  ...        SMA1        SMA2  Ticks\n",
              "35 1971-03-29  105.199997  105.199997  ...  105.199165  102.926388     35\n",
              "36 1971-03-30  105.440002  105.440002  ...  105.277499  103.077500     36\n",
              "37 1971-03-31  105.970001  105.970001  ...  105.347499  103.220000     37\n",
              "38 1971-04-01  106.339996  106.339996  ...  105.412499  103.375000     38\n",
              "39 1971-04-02  106.860001  106.860001  ...  105.525832  103.546388     39\n",
              "\n",
              "[5 rows x 17 columns]"
            ]
          },
          "metadata": {
            "tags": []
          },
          "execution_count": 17
        }
      ]
    },
    {
      "cell_type": "markdown",
      "metadata": {
        "id": "dURQJ5HY7OXA",
        "colab_type": "text"
      },
      "source": [
        "# Visualize the moving average"
      ]
    },
    {
      "cell_type": "code",
      "metadata": {
        "id": "OBT4-o0H7S5a",
        "colab_type": "code",
        "outputId": "b715f764-ce5d-4a0d-9cf4-c71951b402de",
        "colab": {
          "base_uri": "https://localhost:8080/",
          "height": 483
        }
      },
      "source": [
        "#moving average visualisation from 2019 March\n",
        "#Here I just want to see the movements of the stock with rolling mean and moving average.\n",
        "dte = data[data['Date'] > '2019-03-01']\n",
        "dte[['Mid', 'SMA1', 'SMA2']].plot(figsize=(13, 8));"
      ],
      "execution_count": 0,
      "outputs": [
        {
          "output_type": "display_data",
          "data": {
            "image/png": "[encoded data removed]",
            "text/plain": [
              "<Figure size 936x576 with 1 Axes>"
            ]
          },
          "metadata": {
            "tags": [],
            "needs_background": "light"
          }
        }
      ]
    },
    {
      "cell_type": "code",
      "metadata": {
        "id": "XUYOWt6T-7jb",
        "colab_type": "code",
        "colab": {}
      },
      "source": [
        "#SMA Positon\n",
        "# long position = +1 | short position = -1\n",
        "data['SMAPosition'] = np.where(data['SMA1'] > data['SMA2'], 1, -1)"
      ],
      "execution_count": 0,
      "outputs": []
    },
    {
      "cell_type": "code",
      "metadata": {
        "id": "N4vKS6m5plAA",
        "colab_type": "code",
        "outputId": "4d68e0a9-a0e3-4aab-f4cc-061c0f869ec5",
        "colab": {
          "base_uri": "https://localhost:8080/",
          "height": 278
        }
      },
      "source": [
        "data.head(4)"
      ],
      "execution_count": 0,
      "outputs": [
        {
          "output_type": "execute_result",
          "data": {
            "text/html": [
              "<div>\n",
              "<style scoped>\n",
              "    .dataframe tbody tr th:only-of-type {\n",
              "        vertical-align: middle;\n",
              "    }\n",
              "\n",
              "    .dataframe tbody tr th {\n",
              "        vertical-align: top;\n",
              "    }\n",
              "\n",
              "    .dataframe thead th {\n",
              "        text-align: right;\n",
              "    }\n",
              "</style>\n",
              "<table border=\"1\" class=\"dataframe\">\n",
              "  <thead>\n",
              "    <tr style=\"text-align: right;\">\n",
              "      <th></th>\n",
              "      <th>Date</th>\n",
              "      <th>Open</th>\n",
              "      <th>High</th>\n",
              "      <th>Low</th>\n",
              "      <th>Close</th>\n",
              "      <th>Adj Close</th>\n",
              "      <th>Volume</th>\n",
              "      <th>Year</th>\n",
              "      <th>Quarter</th>\n",
              "      <th>Bins</th>\n",
              "      <th>Change</th>\n",
              "      <th>%Change</th>\n",
              "      <th>Direction</th>\n",
              "      <th>Mid</th>\n",
              "      <th>SMA1</th>\n",
              "      <th>SMA2</th>\n",
              "      <th>Ticks</th>\n",
              "      <th>SMAPosition</th>\n",
              "    </tr>\n",
              "  </thead>\n",
              "  <tbody>\n",
              "    <tr>\n",
              "      <th>0</th>\n",
              "      <td>1971-02-05</td>\n",
              "      <td>100.000000</td>\n",
              "      <td>100.000000</td>\n",
              "      <td>100.000000</td>\n",
              "      <td>100.000000</td>\n",
              "      <td>100.000000</td>\n",
              "      <td>0</td>\n",
              "      <td>1971</td>\n",
              "      <td>1</td>\n",
              "      <td>0</td>\n",
              "      <td>0.0</td>\n",
              "      <td>0.0</td>\n",
              "      <td>0</td>\n",
              "      <td>100.000000</td>\n",
              "      <td>NaN</td>\n",
              "      <td>NaN</td>\n",
              "      <td>0</td>\n",
              "      <td>-1</td>\n",
              "    </tr>\n",
              "    <tr>\n",
              "      <th>1</th>\n",
              "      <td>1971-02-08</td>\n",
              "      <td>100.839996</td>\n",
              "      <td>100.839996</td>\n",
              "      <td>100.839996</td>\n",
              "      <td>100.839996</td>\n",
              "      <td>100.839996</td>\n",
              "      <td>0</td>\n",
              "      <td>1971</td>\n",
              "      <td>1</td>\n",
              "      <td>0</td>\n",
              "      <td>0.0</td>\n",
              "      <td>0.0</td>\n",
              "      <td>0</td>\n",
              "      <td>100.839996</td>\n",
              "      <td>NaN</td>\n",
              "      <td>NaN</td>\n",
              "      <td>1</td>\n",
              "      <td>-1</td>\n",
              "    </tr>\n",
              "    <tr>\n",
              "      <th>2</th>\n",
              "      <td>1971-02-09</td>\n",
              "      <td>100.760002</td>\n",
              "      <td>100.760002</td>\n",
              "      <td>100.760002</td>\n",
              "      <td>100.760002</td>\n",
              "      <td>100.760002</td>\n",
              "      <td>0</td>\n",
              "      <td>1971</td>\n",
              "      <td>1</td>\n",
              "      <td>0</td>\n",
              "      <td>0.0</td>\n",
              "      <td>0.0</td>\n",
              "      <td>0</td>\n",
              "      <td>100.760002</td>\n",
              "      <td>NaN</td>\n",
              "      <td>NaN</td>\n",
              "      <td>2</td>\n",
              "      <td>-1</td>\n",
              "    </tr>\n",
              "    <tr>\n",
              "      <th>3</th>\n",
              "      <td>1971-02-10</td>\n",
              "      <td>100.690002</td>\n",
              "      <td>100.690002</td>\n",
              "      <td>100.690002</td>\n",
              "      <td>100.690002</td>\n",
              "      <td>100.690002</td>\n",
              "      <td>0</td>\n",
              "      <td>1971</td>\n",
              "      <td>1</td>\n",
              "      <td>0</td>\n",
              "      <td>0.0</td>\n",
              "      <td>0.0</td>\n",
              "      <td>0</td>\n",
              "      <td>100.690002</td>\n",
              "      <td>NaN</td>\n",
              "      <td>NaN</td>\n",
              "      <td>3</td>\n",
              "      <td>-1</td>\n",
              "    </tr>\n",
              "  </tbody>\n",
              "</table>\n",
              "</div>"
            ],
            "text/plain": [
              "        Date        Open        High  ...  SMA2  Ticks  SMAPosition\n",
              "0 1971-02-05  100.000000  100.000000  ...   NaN      0           -1\n",
              "1 1971-02-08  100.839996  100.839996  ...   NaN      1           -1\n",
              "2 1971-02-09  100.760002  100.760002  ...   NaN      2           -1\n",
              "3 1971-02-10  100.690002  100.690002  ...   NaN      3           -1\n",
              "\n",
              "[4 rows x 18 columns]"
            ]
          },
          "metadata": {
            "tags": []
          },
          "execution_count": 18
        }
      ]
    },
    {
      "cell_type": "code",
      "metadata": {
        "id": "B57BWIfn_6qi",
        "colab_type": "code",
        "colab": {}
      },
      "source": [
        "# https://gist.github.com/yhilpisch/dfd1e9c87864d5e3d6b54f1943a9c1ec\n",
        "\n",
        "# Please have a look at that link it will help shed some light on this financial data.\n",
        "\n",
        "#https://learn.datacamp.com/courses/time-series-analysis-in-python\n",
        "\n",
        "#take the datacamp course on this matter to help you understand better."
      ],
      "execution_count": 0,
      "outputs": []
    },
    {
      "cell_type": "code",
      "metadata": {
        "id": "EWZUhx4G_Bvo",
        "colab_type": "code",
        "colab": {}
      },
      "source": [
        "data.head(5)"
      ],
      "execution_count": 0,
      "outputs": []
    },
    {
      "cell_type": "code",
      "metadata": {
        "id": "yP0_NgqQIGyl",
        "colab_type": "code",
        "outputId": "b5c61e77-0604-4ec5-8d22-e3278a8c41bf",
        "colab": {
          "base_uri": "https://localhost:8080/",
          "height": 403
        }
      },
      "source": [
        "#visualize how the data is moving oscilating over time\n",
        "#we see that we have more up movements than down\n",
        "#with this we can also use a classification algorithm to tell us if the stock is going up or down and by what percentage.\n",
        "plt.figure(figsize= (6,6))\n",
        "plt.title(\"Counts of Ups Vs Downs\")\n",
        "data.Direction.value_counts().plot(kind = 'bar')\n"
      ],
      "execution_count": 0,
      "outputs": [
        {
          "output_type": "execute_result",
          "data": {
            "text/plain": [
              "<matplotlib.axes._subplots.AxesSubplot at 0x7f291788dac8>"
            ]
          },
          "metadata": {
            "tags": []
          },
          "execution_count": 16
        },
        {
          "output_type": "display_data",
          "data": {
            "image/png": "[encoded data removed]",
            "text/plain": [
              "<Figure size 432x432 with 1 Axes>"
            ]
          },
          "metadata": {
            "tags": [],
            "needs_background": "light"
          }
        }
      ]
    },
    {
      "cell_type": "code",
      "metadata": {
        "id": "aXGOhOOhJdsk",
        "colab_type": "code",
        "outputId": "90e31da8-e571-4852-8b48-79ca5ae79176",
        "colab": {
          "base_uri": "https://localhost:8080/",
          "height": 545
        }
      },
      "source": [
        "#value counts in years\n",
        "#here I want to make sure I have good data.\n",
        "#so I count all the values based on the years that I downloaded.\n",
        "plt.figure ( figsize = (12,8))\n",
        "sns.countplot(\n",
        "    x = 'Year',\n",
        "    data = data\n",
        "\n",
        ")\n",
        "plt.xticks(rotation = 90)\n",
        "plt.title(\"Count of Records Per Year\")"
      ],
      "execution_count": 0,
      "outputs": [
        {
          "output_type": "execute_result",
          "data": {
            "text/plain": [
              "Text(0.5, 1.0, 'Count of Records Per Year')"
            ]
          },
          "metadata": {
            "tags": []
          },
          "execution_count": 19
        },
        {
          "output_type": "display_data",
          "data": {
            "image/png": "[encoded data removed]",
            "text/plain": [
              "<Figure size 864x576 with 1 Axes>"
            ]
          },
          "metadata": {
            "tags": [],
            "needs_background": "light"
          }
        }
      ]
    },
    {
      "cell_type": "code",
      "metadata": {
        "id": "vqH18SAfnNh5",
        "colab_type": "code",
        "outputId": "5ac1b7a4-975f-4479-ce11-bc91914da69a",
        "colab": {
          "base_uri": "https://localhost:8080/",
          "height": 85
        }
      },
      "source": [
        "#value counts based on the bins\n",
        "#I put the data in bins so that its easy to classify them.\n",
        "data.Bins.value_counts()"
      ],
      "execution_count": 0,
      "outputs": [
        {
          "output_type": "execute_result",
          "data": {
            "text/plain": [
              "0    9037\n",
              "1    3315\n",
              "2      61\n",
              "Name: Bins, dtype: int64"
            ]
          },
          "metadata": {
            "tags": []
          },
          "execution_count": 20
        }
      ]
    },
    {
      "cell_type": "code",
      "metadata": {
        "id": "V33Y5WgFDuXV",
        "colab_type": "code",
        "outputId": "20ef6019-a39f-41e5-bb4f-3c2dbb25b09f",
        "colab": {
          "base_uri": "https://localhost:8080/",
          "height": 528
        }
      },
      "source": [
        "#Choose a stat that is a better representation of what is really going on..in the market.\n",
        "#this makes more sense to be the metric we look at.\n",
        "sns.relplot(x = 'Date', y = 'Change', data=data, kind='line', height= 7, aspect= 2,color = 'red')\n",
        "plt.title(\"Change in Prices\")\n",
        "plt.grid()\n",
        "plt.show()"
      ],
      "execution_count": 0,
      "outputs": [
        {
          "output_type": "display_data",
          "data": {
            "image/png": "[encoded data removed]",
            "text/plain": [
              "<Figure size 1008x504 with 1 Axes>"
            ]
          },
          "metadata": {
            "tags": [],
            "needs_background": "light"
          }
        }
      ]
    },
    {
      "cell_type": "code",
      "metadata": {
        "id": "zSWa2lUgbiBs",
        "colab_type": "code",
        "outputId": "35e11222-e491-446f-c651-5488de7e48f1",
        "colab": {
          "base_uri": "https://localhost:8080/",
          "height": 529
        }
      },
      "source": [
        "#plot from 2019: sampled data, when I plot all the data it doesnt make much sense.\n",
        "sns.relplot(x = 'Date', y = 'Close', data=dte, kind='line', height= 7, aspect= 2)\n",
        "plt.title(\"Yearly Close\")\n",
        "plt.grid()\n",
        "plt.show()"
      ],
      "execution_count": 0,
      "outputs": [
        {
          "output_type": "display_data",
          "data": {
            "image/png": "[encoded data removed]",
            "text/plain": [
              "<Figure size 1008x504 with 1 Axes>"
            ]
          },
          "metadata": {
            "tags": [],
            "needs_background": "light"
          }
        }
      ]
    },
    {
      "cell_type": "code",
      "metadata": {
        "id": "0VgkmZP3bw5b",
        "colab_type": "code",
        "colab": {}
      },
      "source": [
        ""
      ],
      "execution_count": 0,
      "outputs": []
    },
    {
      "cell_type": "code",
      "metadata": {
        "id": "uXfti0p4jwKB",
        "colab_type": "code",
        "colab": {}
      },
      "source": [
        "# draw a categorical plot based on quaters for one year\n",
        " dt = data.query('Year == 2017')"
      ],
      "execution_count": 0,
      "outputs": []
    },
    {
      "cell_type": "code",
      "metadata": {
        "id": "1MpB7MMqj-M4",
        "colab_type": "code",
        "outputId": "ca126f1a-ff79-4973-ad21-b8aeb94248bf",
        "colab": {
          "base_uri": "https://localhost:8080/",
          "height": 518
        }
      },
      "source": [
        "sns.catplot(x = 'Quarter',\n",
        "            y = 'Volume' ,\n",
        "            kind = 'box',\n",
        "            data = dt,\n",
        "            height = 7,\n",
        "            aspect = 2)\n",
        "plt.title (\"Volumes for the Quarters of 2017\")\n",
        "plt.grid()"
      ],
      "execution_count": 0,
      "outputs": [
        {
          "output_type": "display_data",
          "data": {
            "image/png": "[encoded data removed]",
            "text/plain": [
              "<Figure size 1008x504 with 1 Axes>"
            ]
          },
          "metadata": {
            "tags": [],
            "needs_background": "light"
          }
        }
      ]
    },
    {
      "cell_type": "code",
      "metadata": {
        "id": "ZJiLOSvsj_0Y",
        "colab_type": "code",
        "colab": {}
      },
      "source": [
        ""
      ],
      "execution_count": 0,
      "outputs": []
    },
    {
      "cell_type": "code",
      "metadata": {
        "id": "PYYR_XJjn4Gx",
        "colab_type": "code",
        "colab": {}
      },
      "source": [
        "# Resampling\n",
        "\n",
        "# Here I have to split the data in a way that I take some on which I can simulate a futuristic scenario.\n",
        "\n",
        "# since 2020 has the least data I am going to train my algorithm to predict on that data"
      ],
      "execution_count": 0,
      "outputs": []
    },
    {
      "cell_type": "code",
      "metadata": {
        "id": "yxoEzLj1Mf9I",
        "colab_type": "code",
        "outputId": "08d7055f-9bb6-4cd9-dab4-8ee2b66d3c70",
        "colab": {
          "base_uri": "https://localhost:8080/",
          "height": 340
        }
      },
      "source": [
        "data.dtypes"
      ],
      "execution_count": 0,
      "outputs": [
        {
          "output_type": "execute_result",
          "data": {
            "text/plain": [
              "Date           datetime64[ns]\n",
              "Open                  float64\n",
              "High                  float64\n",
              "Low                   float64\n",
              "Close                 float64\n",
              "Adj Close             float64\n",
              "Volume                  int64\n",
              "Year                    int64\n",
              "Quarter                 int64\n",
              "Bins                    int64\n",
              "Change                float64\n",
              "%Change               float64\n",
              "Direction               int64\n",
              "Mid                   float64\n",
              "SMA1                  float64\n",
              "SMA2                  float64\n",
              "Ticks                   int64\n",
              "SMAPosition             int64\n",
              "dtype: object"
            ]
          },
          "metadata": {
            "tags": []
          },
          "execution_count": 26
        }
      ]
    },
    {
      "cell_type": "markdown",
      "metadata": {
        "id": "VuYzUz9cPJts",
        "colab_type": "text"
      },
      "source": [
        "# Splitting Data"
      ]
    },
    {
      "cell_type": "code",
      "metadata": {
        "id": "Vmb3wcHfTKKA",
        "colab_type": "code",
        "colab": {}
      },
      "source": [
        "#create a mask\n",
        "Test = data[data.Date.dt.year == 2020] #mask based on the year. I took out all the 2020 years\n",
        "#the trick is that I already have the results of the price fluctuations so I can build a model and compare how its doing."
      ],
      "execution_count": 0,
      "outputs": []
    },
    {
      "cell_type": "code",
      "metadata": {
        "id": "0RtmNekyMIdX",
        "colab_type": "code",
        "colab": {}
      },
      "source": [
        "Train = data.drop(index=data[data.Date.dt.year == 2020].index)"
      ],
      "execution_count": 0,
      "outputs": []
    },
    {
      "cell_type": "code",
      "metadata": {
        "id": "AoK9dSTWTdMb",
        "colab_type": "code",
        "outputId": "ce97475f-4a00-40df-8603-df892c5000e1",
        "colab": {
          "base_uri": "https://localhost:8080/",
          "height": 102
        }
      },
      "source": [
        "#check whether you have the right years that are needed\n",
        "Train.Year.unique()"
      ],
      "execution_count": 0,
      "outputs": [
        {
          "output_type": "execute_result",
          "data": {
            "text/plain": [
              "array([1971, 1972, 1973, 1974, 1975, 1976, 1977, 1978, 1979, 1980, 1981,\n",
              "       1982, 1983, 1984, 1985, 1986, 1987, 1988, 1989, 1990, 1991, 1992,\n",
              "       1993, 1994, 1995, 1996, 1997, 1998, 1999, 2000, 2001, 2002, 2003,\n",
              "       2004, 2005, 2006, 2007, 2008, 2009, 2010, 2011, 2012, 2013, 2014,\n",
              "       2015, 2016, 2017, 2018, 2019])"
            ]
          },
          "metadata": {
            "tags": []
          },
          "execution_count": 29
        }
      ]
    },
    {
      "cell_type": "code",
      "metadata": {
        "id": "TAFQckVpOsyB",
        "colab_type": "code",
        "outputId": "cb8becca-de97-47ff-c8ce-9e2039f2cc47",
        "colab": {
          "base_uri": "https://localhost:8080/",
          "height": 204
        }
      },
      "source": [
        "Test.head()"
      ],
      "execution_count": 0,
      "outputs": [
        {
          "output_type": "execute_result",
          "data": {
            "text/html": [
              "<div>\n",
              "<style scoped>\n",
              "    .dataframe tbody tr th:only-of-type {\n",
              "        vertical-align: middle;\n",
              "    }\n",
              "\n",
              "    .dataframe tbody tr th {\n",
              "        vertical-align: top;\n",
              "    }\n",
              "\n",
              "    .dataframe thead th {\n",
              "        text-align: right;\n",
              "    }\n",
              "</style>\n",
              "<table border=\"1\" class=\"dataframe\">\n",
              "  <thead>\n",
              "    <tr style=\"text-align: right;\">\n",
              "      <th></th>\n",
              "      <th>Date</th>\n",
              "      <th>Open</th>\n",
              "      <th>High</th>\n",
              "      <th>Low</th>\n",
              "      <th>Close</th>\n",
              "      <th>Adj Close</th>\n",
              "      <th>Volume</th>\n",
              "      <th>Year</th>\n",
              "      <th>Quarter</th>\n",
              "      <th>Bins</th>\n",
              "      <th>Change</th>\n",
              "      <th>%Change</th>\n",
              "      <th>Direction</th>\n",
              "    </tr>\n",
              "  </thead>\n",
              "  <tbody>\n",
              "    <tr>\n",
              "      <th>12335</th>\n",
              "      <td>2020-01-02</td>\n",
              "      <td>9039.459961</td>\n",
              "      <td>9093.429688</td>\n",
              "      <td>9010.889648</td>\n",
              "      <td>9092.190430</td>\n",
              "      <td>9092.190430</td>\n",
              "      <td>2848370000</td>\n",
              "      <td>2020</td>\n",
              "      <td>1</td>\n",
              "      <td>1</td>\n",
              "      <td>52.730469</td>\n",
              "      <td>0.583336</td>\n",
              "      <td>1</td>\n",
              "    </tr>\n",
              "    <tr>\n",
              "      <th>12336</th>\n",
              "      <td>2020-01-03</td>\n",
              "      <td>8976.429688</td>\n",
              "      <td>9065.759766</td>\n",
              "      <td>8976.429688</td>\n",
              "      <td>9020.769531</td>\n",
              "      <td>9020.769531</td>\n",
              "      <td>2567400000</td>\n",
              "      <td>2020</td>\n",
              "      <td>1</td>\n",
              "      <td>1</td>\n",
              "      <td>44.339843</td>\n",
              "      <td>0.493959</td>\n",
              "      <td>1</td>\n",
              "    </tr>\n",
              "    <tr>\n",
              "      <th>12337</th>\n",
              "      <td>2020-01-06</td>\n",
              "      <td>8943.500000</td>\n",
              "      <td>9072.410156</td>\n",
              "      <td>8943.500000</td>\n",
              "      <td>9071.469727</td>\n",
              "      <td>9071.469727</td>\n",
              "      <td>2788120000</td>\n",
              "      <td>2020</td>\n",
              "      <td>1</td>\n",
              "      <td>1</td>\n",
              "      <td>127.969727</td>\n",
              "      <td>1.430869</td>\n",
              "      <td>1</td>\n",
              "    </tr>\n",
              "    <tr>\n",
              "      <th>12338</th>\n",
              "      <td>2020-01-07</td>\n",
              "      <td>9076.639648</td>\n",
              "      <td>9091.929688</td>\n",
              "      <td>9042.549805</td>\n",
              "      <td>9068.580078</td>\n",
              "      <td>9068.580078</td>\n",
              "      <td>2352850000</td>\n",
              "      <td>2020</td>\n",
              "      <td>1</td>\n",
              "      <td>1</td>\n",
              "      <td>-8.059570</td>\n",
              "      <td>-0.088795</td>\n",
              "      <td>0</td>\n",
              "    </tr>\n",
              "    <tr>\n",
              "      <th>12339</th>\n",
              "      <td>2020-01-08</td>\n",
              "      <td>9068.030273</td>\n",
              "      <td>9168.889648</td>\n",
              "      <td>9059.379883</td>\n",
              "      <td>9129.240234</td>\n",
              "      <td>9129.240234</td>\n",
              "      <td>2464090000</td>\n",
              "      <td>2020</td>\n",
              "      <td>1</td>\n",
              "      <td>1</td>\n",
              "      <td>61.209961</td>\n",
              "      <td>0.675008</td>\n",
              "      <td>1</td>\n",
              "    </tr>\n",
              "  </tbody>\n",
              "</table>\n",
              "</div>"
            ],
            "text/plain": [
              "            Date         Open         High  ...      Change   %Change  Direction\n",
              "12335 2020-01-02  9039.459961  9093.429688  ...   52.730469  0.583336          1\n",
              "12336 2020-01-03  8976.429688  9065.759766  ...   44.339843  0.493959          1\n",
              "12337 2020-01-06  8943.500000  9072.410156  ...  127.969727  1.430869          1\n",
              "12338 2020-01-07  9076.639648  9091.929688  ...   -8.059570 -0.088795          0\n",
              "12339 2020-01-08  9068.030273  9168.889648  ...   61.209961  0.675008          1\n",
              "\n",
              "[5 rows x 13 columns]"
            ]
          },
          "metadata": {
            "tags": []
          },
          "execution_count": 22
        }
      ]
    },
    {
      "cell_type": "code",
      "metadata": {
        "id": "8ioaxQVAOZ6s",
        "colab_type": "code",
        "outputId": "b3026542-f72b-47b2-e35a-03a9b9eb1fe8",
        "colab": {
          "base_uri": "https://localhost:8080/",
          "height": 545
        }
      },
      "source": [
        "#value counts in years\n",
        "#make sure there is no 2020\n",
        "plt.figure ( figsize = (12,8))\n",
        "sns.countplot(\n",
        "    x = 'Year',\n",
        "    data = Train\n",
        "\n",
        ")\n",
        "plt.xticks(rotation = 90)\n",
        "plt.title(\"Count of Records Per Year\")"
      ],
      "execution_count": 0,
      "outputs": [
        {
          "output_type": "execute_result",
          "data": {
            "text/plain": [
              "Text(0.5, 1.0, 'Count of Records Per Year')"
            ]
          },
          "metadata": {
            "tags": []
          },
          "execution_count": 25
        },
        {
          "output_type": "display_data",
          "data": {
            "image/png": "[encoded data removed]",
            "text/plain": [
              "<Figure size 864x576 with 1 Axes>"
            ]
          },
          "metadata": {
            "tags": [],
            "needs_background": "light"
          }
        }
      ]
    },
    {
      "cell_type": "markdown",
      "metadata": {
        "id": "0SSsgKYaU2Wr",
        "colab_type": "text"
      },
      "source": [
        "# Choosing my columns"
      ]
    },
    {
      "cell_type": "code",
      "metadata": {
        "id": "YJR5g9EuTxat",
        "colab_type": "code",
        "colab": {}
      },
      "source": [
        "test = Test[['Date','Low','High','Adj Close','Volume','%Change']]\n",
        "train = Train[['Date','Low','High','Adj Close','Volume','%Change']]"
      ],
      "execution_count": 0,
      "outputs": []
    },
    {
      "cell_type": "code",
      "metadata": {
        "id": "VkzyiwTsUIh7",
        "colab_type": "code",
        "colab": {}
      },
      "source": [
        "#split the test dataset with X,y\n",
        "\n",
        "test_values = test[['Low','High','Adj Close','Volume']]\n",
        "test_label = test[['%Change']]"
      ],
      "execution_count": 0,
      "outputs": []
    },
    {
      "cell_type": "code",
      "metadata": {
        "id": "OKL6An-lUITA",
        "colab_type": "code",
        "colab": {}
      },
      "source": [
        ""
      ],
      "execution_count": 0,
      "outputs": []
    },
    {
      "cell_type": "code",
      "metadata": {
        "id": "NmZj8T2vqOv1",
        "colab_type": "code",
        "colab": {}
      },
      "source": [
        "from sklearn.model_selection import train_test_split\n",
        "\n",
        "#let's take X and y out of the dataset\n",
        "y = train['%Change']\n",
        "x = train.drop(columns = ['%Change','Date'])\n",
        "\n",
        " #resample\n",
        "\n",
        "X_train, X_test, y_train, y_test = train_test_split(x,y, test_size = 0.25, shuffle = False)"
      ],
      "execution_count": 0,
      "outputs": []
    },
    {
      "cell_type": "code",
      "metadata": {
        "id": "pyIcWTRfrWkM",
        "colab_type": "code",
        "colab": {}
      },
      "source": [
        "from sklearn.linear_model import LinearRegression\n",
        "from sklearn.metrics import mean_squared_error, r2_score\n",
        "from sklearn.ensemble import RandomForestRegressor"
      ],
      "execution_count": 0,
      "outputs": []
    },
    {
      "cell_type": "code",
      "metadata": {
        "id": "oW6T1No3t-4A",
        "colab_type": "code",
        "colab": {}
      },
      "source": [
        "model = LinearRegression()\n",
        "frt = RandomForestRegressor()"
      ],
      "execution_count": 0,
      "outputs": []
    },
    {
      "cell_type": "code",
      "metadata": {
        "id": "DlmEqkRovAt3",
        "colab_type": "code",
        "outputId": "d58a48a5-54e7-4740-e9bd-dcc50340269d",
        "colab": {
          "base_uri": "https://localhost:8080/",
          "height": 34
        }
      },
      "source": [
        "model.fit(X_train, y_train)"
      ],
      "execution_count": 0,
      "outputs": [
        {
          "output_type": "execute_result",
          "data": {
            "text/plain": [
              "LinearRegression(copy_X=True, fit_intercept=True, n_jobs=None, normalize=False)"
            ]
          },
          "metadata": {
            "tags": []
          },
          "execution_count": 32
        }
      ]
    },
    {
      "cell_type": "code",
      "metadata": {
        "id": "XV3UkNmN8Blu",
        "colab_type": "code",
        "colab": {}
      },
      "source": [
        " prediction = model.predict(X_test)"
      ],
      "execution_count": 0,
      "outputs": []
    },
    {
      "cell_type": "code",
      "metadata": {
        "id": "43f8wgdw8emo",
        "colab_type": "code",
        "outputId": "d648ae8c-380a-4ea9-da3f-310eb86e1874",
        "colab": {
          "base_uri": "https://localhost:8080/",
          "height": 34
        }
      },
      "source": [
        "#the model score:\n",
        "model.score(X_test,y_test)"
      ],
      "execution_count": 0,
      "outputs": [
        {
          "output_type": "execute_result",
          "data": {
            "text/plain": [
              "0.43523139715217585"
            ]
          },
          "metadata": {
            "tags": []
          },
          "execution_count": 34
        }
      ]
    },
    {
      "cell_type": "code",
      "metadata": {
        "id": "MqR-pcu28lWV",
        "colab_type": "code",
        "outputId": "fb672b8a-d6d3-4fe7-8bc6-30a0b26010a6",
        "colab": {
          "base_uri": "https://localhost:8080/",
          "height": 537
        }
      },
      "source": [
        "fg, ax = plt.subplots(2,1)\n",
        "ax[0].plot(X_test.index[:100], y_test[:100])\n",
        "ax[1].plot(X_test.index[:100], prediction[:100], color = 'red')\n",
        "fg.set_figheight(9)\n",
        "fg.set_figwidth(12)"
      ],
      "execution_count": 0,
      "outputs": [
        {
          "output_type": "display_data",
          "data": {
            "image/png": "[encoded data removed]",
            "text/plain": [
              "<Figure size 864x648 with 2 Axes>"
            ]
          },
          "metadata": {
            "tags": [],
            "needs_background": "light"
          }
        }
      ]
    },
    {
      "cell_type": "code",
      "metadata": {
        "id": "bZwm8Hfz86NI",
        "colab_type": "code",
        "colab": {}
      },
      "source": [
        ""
      ],
      "execution_count": 0,
      "outputs": []
    }
  ]
}